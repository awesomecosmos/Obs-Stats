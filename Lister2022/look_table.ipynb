{
 "cells": [
  {
   "cell_type": "code",
   "execution_count": 1,
   "metadata": {},
   "outputs": [],
   "source": [
    "#importing useful packages\n",
    "import matplotlib.pyplot as plt\n",
    "import numpy as np\n",
    "from astropy.io import fits\n",
    "from astropy.io import ascii\n",
    "import astropy.time\n",
    "from astropy.time import Time\n",
    "import astropy.table\n",
    "from astropy.table import Table, Column, MaskedColumn\n",
    "from astroplan import Observer\n",
    "from astroquery.jplhorizons import Horizons\n",
    "import pandas as pd\n",
    "import csv\n",
    "import astropy.time\n",
    "import dateutil.parser\n",
    "\n",
    "### Reading CSV file of dates targets were observed\n",
    "raw_target_info = pd.read_csv(\"look_table.csv\")"
   ]
  },
  {
   "cell_type": "code",
   "execution_count": 2,
   "metadata": {},
   "outputs": [
    {
     "data": {
      "text/html": [
       "<div>\n",
       "<style scoped>\n",
       "    .dataframe tbody tr th:only-of-type {\n",
       "        vertical-align: middle;\n",
       "    }\n",
       "\n",
       "    .dataframe tbody tr th {\n",
       "        vertical-align: top;\n",
       "    }\n",
       "\n",
       "    .dataframe thead th {\n",
       "        text-align: right;\n",
       "    }\n",
       "</style>\n",
       "<table border=\"1\" class=\"dataframe\">\n",
       "  <thead>\n",
       "    <tr style=\"text-align: right;\">\n",
       "      <th></th>\n",
       "      <th>Name</th>\n",
       "      <th>N</th>\n",
       "    </tr>\n",
       "  </thead>\n",
       "  <tbody>\n",
       "    <tr>\n",
       "      <th>13</th>\n",
       "      <td>C/2021 A6</td>\n",
       "      <td>21/01/2021</td>\n",
       "    </tr>\n",
       "    <tr>\n",
       "      <th>14</th>\n",
       "      <td>C/2021 A7</td>\n",
       "      <td>21/01/2021</td>\n",
       "    </tr>\n",
       "    <tr>\n",
       "      <th>15</th>\n",
       "      <td>C/2021 B3</td>\n",
       "      <td>13/02/2021</td>\n",
       "    </tr>\n",
       "    <tr>\n",
       "      <th>16</th>\n",
       "      <td>P/2020 V3</td>\n",
       "      <td>07/12/2020</td>\n",
       "    </tr>\n",
       "    <tr>\n",
       "      <th>17</th>\n",
       "      <td>P/2020 V4</td>\n",
       "      <td>10/12/2020</td>\n",
       "    </tr>\n",
       "  </tbody>\n",
       "</table>\n",
       "</div>"
      ],
      "text/plain": [
       "         Name           N\n",
       "13  C/2021 A6  21/01/2021\n",
       "14  C/2021 A7  21/01/2021\n",
       "15  C/2021 B3  13/02/2021\n",
       "16  P/2020 V3  07/12/2020\n",
       "17  P/2020 V4  10/12/2020"
      ]
     },
     "execution_count": 2,
     "metadata": {},
     "output_type": "execute_result"
    }
   ],
   "source": [
    "### Creating new dataframe with first date each target was observed\n",
    "subset_df = raw_target_info[[\"Target\",\"Date\"]]\n",
    "grouped_and_first_df = subset_df.groupby([\"Target\"]).first()\n",
    "new_df = grouped_and_first_df.reset_index()\n",
    "new_df.columns = [\"Name\",\"N\"]\n",
    "new_df.tail(5)"
   ]
  },
  {
   "cell_type": "code",
   "execution_count": 3,
   "metadata": {},
   "outputs": [
    {
     "name": "stdout",
     "output_type": "stream",
     "text": [
      "18\n",
      "18\n",
      "18\n"
     ]
    }
   ],
   "source": [
    "### \n",
    "target_location = '474' # Mt. John Observatory MPC code\n",
    "\n",
    "obsDate_lst = []\n",
    "for i in new_df.N:\n",
    "    obsDate_lst.append(i)\n",
    "\n",
    "print(len(obsDate_lst))\n",
    "\n",
    "targetname_lst = []\n",
    "for i in new_df.Name:\n",
    "    targetname_lst.append(i)\n",
    "\n",
    "print(len(targetname_lst))\n",
    "\n",
    "# need to convert epoch date to julian date\n",
    "jd_obsDate_lst = []\n",
    "for i in obsDate_lst:\n",
    "    dt = dateutil.parser.parse(obsDate_lst[0]) \n",
    "    time = astropy.time.Time(dt)\n",
    "    jd_obsDate_lst.append(time.jd)\n",
    "\n",
    "print(len(jd_obsDate_lst))"
   ]
  },
  {
   "cell_type": "code",
   "execution_count": 4,
   "metadata": {},
   "outputs": [],
   "source": [
    "# #need to query information from JPL Horizons database\n",
    "eph_lst = []\n",
    "el_lst = []\n",
    "obj_lst = []\n",
    "for index,jdDate in enumerate(jd_obsDate_lst):\n",
    "    if targetname_lst[index] == \"C/2018 F4\":\n",
    "        obj = Horizons(id='90004395', epochs=jdDate)\n",
    "        eph_lst.append(obj.ephemerides()) #from eph, only need 'r' heliocentric distance\n",
    "        el_lst.append(obj.elements()) #from elems, need a0 (semimajor axis), q, and T (perihelion date)\n",
    "    else:\n",
    "        obj = Horizons(id=targetname_lst[index], epochs=jdDate)\n",
    "        obj_lst.append(obj)\n",
    "        eph_lst.append(obj.ephemerides()) #from eph, only need 'r' heliocentric distance\n",
    "        el_lst.append(obj.elements()) #from elems, need a0 (semimajor axis), q, and T (perihelion date)"
   ]
  },
  {
   "cell_type": "code",
   "execution_count": 5,
   "metadata": {},
   "outputs": [
    {
     "name": "stdout",
     "output_type": "stream",
     "text": [
      "18\n",
      "18\n"
     ]
    }
   ],
   "source": [
    "print(len(eph_lst))\n",
    "print(len(el_lst))"
   ]
  },
  {
   "cell_type": "code",
   "execution_count": 6,
   "metadata": {},
   "outputs": [],
   "source": [
    "final_array = []\n",
    "for index,target in enumerate(eph_lst):\n",
    "    final_array.append([el_lst[index]['a'][0],eph_lst[index]['r'][0],\n",
    "                        el_lst[index]['q'][0],el_lst[index]['Tp_jd'][0]])"
   ]
  },
  {
   "cell_type": "code",
   "execution_count": 7,
   "metadata": {},
   "outputs": [
    {
     "data": {
      "text/html": [
       "<div>\n",
       "<style scoped>\n",
       "    .dataframe tbody tr th:only-of-type {\n",
       "        vertical-align: middle;\n",
       "    }\n",
       "\n",
       "    .dataframe tbody tr th {\n",
       "        vertical-align: top;\n",
       "    }\n",
       "\n",
       "    .dataframe thead th {\n",
       "        text-align: right;\n",
       "    }\n",
       "</style>\n",
       "<table border=\"1\" class=\"dataframe\">\n",
       "  <thead>\n",
       "    <tr style=\"text-align: right;\">\n",
       "      <th></th>\n",
       "      <th>a</th>\n",
       "      <th>r</th>\n",
       "      <th>q</th>\n",
       "      <th>T</th>\n",
       "    </tr>\n",
       "  </thead>\n",
       "  <tbody>\n",
       "    <tr>\n",
       "      <th>13</th>\n",
       "      <td>-3.115937e-06</td>\n",
       "      <td>7.954310</td>\n",
       "      <td>4.928464</td>\n",
       "      <td>2.459550e+06</td>\n",
       "    </tr>\n",
       "    <tr>\n",
       "      <th>14</th>\n",
       "      <td>-3.258038e-06</td>\n",
       "      <td>2.855258</td>\n",
       "      <td>1.965796</td>\n",
       "      <td>2.459343e+06</td>\n",
       "    </tr>\n",
       "    <tr>\n",
       "      <th>15</th>\n",
       "      <td>-8.568433e-07</td>\n",
       "      <td>2.229828</td>\n",
       "      <td>1.878752</td>\n",
       "      <td>2.459258e+06</td>\n",
       "    </tr>\n",
       "    <tr>\n",
       "      <th>16</th>\n",
       "      <td>-6.356858e-06</td>\n",
       "      <td>6.230639</td>\n",
       "      <td>2.926078</td>\n",
       "      <td>2.458839e+06</td>\n",
       "    </tr>\n",
       "    <tr>\n",
       "      <th>17</th>\n",
       "      <td>-7.393996e-06</td>\n",
       "      <td>5.226928</td>\n",
       "      <td>1.507296</td>\n",
       "      <td>2.458846e+06</td>\n",
       "    </tr>\n",
       "  </tbody>\n",
       "</table>\n",
       "</div>"
      ],
      "text/plain": [
       "               a         r         q             T\n",
       "13 -3.115937e-06  7.954310  4.928464  2.459550e+06\n",
       "14 -3.258038e-06  2.855258  1.965796  2.459343e+06\n",
       "15 -8.568433e-07  2.229828  1.878752  2.459258e+06\n",
       "16 -6.356858e-06  6.230639  2.926078  2.458839e+06\n",
       "17 -7.393996e-06  5.226928  1.507296  2.458846e+06"
      ]
     },
     "execution_count": 7,
     "metadata": {},
     "output_type": "execute_result"
    }
   ],
   "source": [
    "eph_el_df = pd.DataFrame(final_array,columns=['a','r','q','T'])\n",
    "eph_el_df.tail(5)"
   ]
  },
  {
   "cell_type": "code",
   "execution_count": 8,
   "metadata": {},
   "outputs": [
    {
     "data": {
      "text/html": [
       "<div>\n",
       "<style scoped>\n",
       "    .dataframe tbody tr th:only-of-type {\n",
       "        vertical-align: middle;\n",
       "    }\n",
       "\n",
       "    .dataframe tbody tr th {\n",
       "        vertical-align: top;\n",
       "    }\n",
       "\n",
       "    .dataframe thead th {\n",
       "        text-align: right;\n",
       "    }\n",
       "</style>\n",
       "<table border=\"1\" class=\"dataframe\">\n",
       "  <thead>\n",
       "    <tr style=\"text-align: right;\">\n",
       "      <th></th>\n",
       "      <th>Name</th>\n",
       "      <th>N</th>\n",
       "      <th>a</th>\n",
       "      <th>r</th>\n",
       "      <th>q</th>\n",
       "      <th>T</th>\n",
       "    </tr>\n",
       "  </thead>\n",
       "  <tbody>\n",
       "    <tr>\n",
       "      <th>13</th>\n",
       "      <td>C/2021 A6</td>\n",
       "      <td>21/01/2021</td>\n",
       "      <td>-3.115937e-06</td>\n",
       "      <td>7.954310</td>\n",
       "      <td>4.928464</td>\n",
       "      <td>2.459550e+06</td>\n",
       "    </tr>\n",
       "    <tr>\n",
       "      <th>14</th>\n",
       "      <td>C/2021 A7</td>\n",
       "      <td>21/01/2021</td>\n",
       "      <td>-3.258038e-06</td>\n",
       "      <td>2.855258</td>\n",
       "      <td>1.965796</td>\n",
       "      <td>2.459343e+06</td>\n",
       "    </tr>\n",
       "    <tr>\n",
       "      <th>15</th>\n",
       "      <td>C/2021 B3</td>\n",
       "      <td>13/02/2021</td>\n",
       "      <td>-8.568433e-07</td>\n",
       "      <td>2.229828</td>\n",
       "      <td>1.878752</td>\n",
       "      <td>2.459258e+06</td>\n",
       "    </tr>\n",
       "    <tr>\n",
       "      <th>16</th>\n",
       "      <td>P/2020 V3</td>\n",
       "      <td>07/12/2020</td>\n",
       "      <td>-6.356858e-06</td>\n",
       "      <td>6.230639</td>\n",
       "      <td>2.926078</td>\n",
       "      <td>2.458839e+06</td>\n",
       "    </tr>\n",
       "    <tr>\n",
       "      <th>17</th>\n",
       "      <td>P/2020 V4</td>\n",
       "      <td>10/12/2020</td>\n",
       "      <td>-7.393996e-06</td>\n",
       "      <td>5.226928</td>\n",
       "      <td>1.507296</td>\n",
       "      <td>2.458846e+06</td>\n",
       "    </tr>\n",
       "  </tbody>\n",
       "</table>\n",
       "</div>"
      ],
      "text/plain": [
       "         Name           N             a         r         q             T\n",
       "13  C/2021 A6  21/01/2021 -3.115937e-06  7.954310  4.928464  2.459550e+06\n",
       "14  C/2021 A7  21/01/2021 -3.258038e-06  2.855258  1.965796  2.459343e+06\n",
       "15  C/2021 B3  13/02/2021 -8.568433e-07  2.229828  1.878752  2.459258e+06\n",
       "16  P/2020 V3  07/12/2020 -6.356858e-06  6.230639  2.926078  2.458839e+06\n",
       "17  P/2020 V4  10/12/2020 -7.393996e-06  5.226928  1.507296  2.458846e+06"
      ]
     },
     "execution_count": 8,
     "metadata": {},
     "output_type": "execute_result"
    }
   ],
   "source": [
    "final_new_df = pd.concat([new_df,eph_el_df],axis=1)\n",
    "final_new_df.tail(5)"
   ]
  },
  {
   "cell_type": "code",
   "execution_count": 9,
   "metadata": {},
   "outputs": [
    {
     "data": {
      "text/html": [
       "<div>\n",
       "<style scoped>\n",
       "    .dataframe tbody tr th:only-of-type {\n",
       "        vertical-align: middle;\n",
       "    }\n",
       "\n",
       "    .dataframe tbody tr th {\n",
       "        vertical-align: top;\n",
       "    }\n",
       "\n",
       "    .dataframe thead th {\n",
       "        text-align: right;\n",
       "    }\n",
       "</style>\n",
       "<table border=\"1\" class=\"dataframe\">\n",
       "  <thead>\n",
       "    <tr style=\"text-align: right;\">\n",
       "      <th></th>\n",
       "      <th>Name</th>\n",
       "      <th>a</th>\n",
       "      <th>N</th>\n",
       "      <th>r</th>\n",
       "      <th>q</th>\n",
       "      <th>T</th>\n",
       "    </tr>\n",
       "  </thead>\n",
       "  <tbody>\n",
       "    <tr>\n",
       "      <th>13</th>\n",
       "      <td>C/2021 A6</td>\n",
       "      <td>-3.115937e-06</td>\n",
       "      <td>21/01/2021</td>\n",
       "      <td>7.954310</td>\n",
       "      <td>4.928464</td>\n",
       "      <td>2.459550e+06</td>\n",
       "    </tr>\n",
       "    <tr>\n",
       "      <th>14</th>\n",
       "      <td>C/2021 A7</td>\n",
       "      <td>-3.258038e-06</td>\n",
       "      <td>21/01/2021</td>\n",
       "      <td>2.855258</td>\n",
       "      <td>1.965796</td>\n",
       "      <td>2.459343e+06</td>\n",
       "    </tr>\n",
       "    <tr>\n",
       "      <th>15</th>\n",
       "      <td>C/2021 B3</td>\n",
       "      <td>-8.568433e-07</td>\n",
       "      <td>13/02/2021</td>\n",
       "      <td>2.229828</td>\n",
       "      <td>1.878752</td>\n",
       "      <td>2.459258e+06</td>\n",
       "    </tr>\n",
       "    <tr>\n",
       "      <th>16</th>\n",
       "      <td>P/2020 V3</td>\n",
       "      <td>-6.356858e-06</td>\n",
       "      <td>07/12/2020</td>\n",
       "      <td>6.230639</td>\n",
       "      <td>2.926078</td>\n",
       "      <td>2.458839e+06</td>\n",
       "    </tr>\n",
       "    <tr>\n",
       "      <th>17</th>\n",
       "      <td>P/2020 V4</td>\n",
       "      <td>-7.393996e-06</td>\n",
       "      <td>10/12/2020</td>\n",
       "      <td>5.226928</td>\n",
       "      <td>1.507296</td>\n",
       "      <td>2.458846e+06</td>\n",
       "    </tr>\n",
       "  </tbody>\n",
       "</table>\n",
       "</div>"
      ],
      "text/plain": [
       "         Name             a           N         r         q             T\n",
       "13  C/2021 A6 -3.115937e-06  21/01/2021  7.954310  4.928464  2.459550e+06\n",
       "14  C/2021 A7 -3.258038e-06  21/01/2021  2.855258  1.965796  2.459343e+06\n",
       "15  C/2021 B3 -8.568433e-07  13/02/2021  2.229828  1.878752  2.459258e+06\n",
       "16  P/2020 V3 -6.356858e-06  07/12/2020  6.230639  2.926078  2.458839e+06\n",
       "17  P/2020 V4 -7.393996e-06  10/12/2020  5.226928  1.507296  2.458846e+06"
      ]
     },
     "execution_count": 9,
     "metadata": {},
     "output_type": "execute_result"
    }
   ],
   "source": [
    "final_new_df = final_new_df[['Name','a','N','r','q','T']]\n",
    "final_new_df.tail(5)"
   ]
  },
  {
   "cell_type": "code",
   "execution_count": 10,
   "metadata": {},
   "outputs": [
    {
     "name": "stdout",
     "output_type": "stream",
     "text": [
      "2459240.592245275\n",
      "2021-01-26\n"
     ]
    }
   ],
   "source": [
    "yeet = final_new_df['T'][0]\n",
    "print(yeet)\n",
    "t = Time(final_new_df['T'][0], format='jd').to_value('iso')[:10]\n",
    "print(t)\n",
    "# t = Time(times, format='isot', scale='utc')"
   ]
  },
  {
   "cell_type": "code",
   "execution_count": 11,
   "metadata": {},
   "outputs": [],
   "source": [
    "final_new_df['T'] = final_new_df['T'].map(lambda name: Time(name, format='jd').to_value('iso')[:10])\n",
    "\n",
    "# for i in final_new_df['T']:\n",
    "#     print(i)\n",
    "# #     i = Time(i, format='jd').to_value('iso')[:10]"
   ]
  },
  {
   "cell_type": "code",
   "execution_count": 13,
   "metadata": {},
   "outputs": [],
   "source": [
    "#now we need to make the JPL data and the FITS data into tables\n",
    "final_r_lst = []\n",
    "for target in eph_lst:\n",
    "    final_r_lst.append(target['r'][0])"
   ]
  },
  {
   "cell_type": "code",
   "execution_count": 15,
   "metadata": {},
   "outputs": [],
   "source": [
    "final_a0_lst = []\n",
    "final_q_lst = []\n",
    "final_T_lst = []\n",
    "for target in el_lst:\n",
    "    final_a0_lst.append(target['a'][0]) \n",
    "    final_q_lst.append(target['q'][0])\n",
    "    final_T_lst.append(target['Tp_jd'][0])"
   ]
  }
 ],
 "metadata": {
  "interpreter": {
   "hash": "b8dfcc4a6243885f100527393eda4351d2397a0a9d4c07ea3031d7aee9b8c635"
  },
  "kernelspec": {
   "display_name": "Python 3.9.5 64-bit",
   "language": "python",
   "name": "python3"
  },
  "language_info": {
   "codemirror_mode": {
    "name": "ipython",
    "version": 3
   },
   "file_extension": ".py",
   "mimetype": "text/x-python",
   "name": "python",
   "nbconvert_exporter": "python",
   "pygments_lexer": "ipython3",
   "version": "3.9.5"
  },
  "orig_nbformat": 4
 },
 "nbformat": 4,
 "nbformat_minor": 2
}
