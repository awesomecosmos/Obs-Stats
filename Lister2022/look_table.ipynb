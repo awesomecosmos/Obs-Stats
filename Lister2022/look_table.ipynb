{
 "cells": [
  {
   "cell_type": "code",
   "execution_count": 8,
   "metadata": {},
   "outputs": [],
   "source": [
    "#importing useful packages\n",
    "import matplotlib.pyplot as plt\n",
    "import numpy as np\n",
    "from astropy.io import fits\n",
    "from astropy.io import ascii\n",
    "import astropy.time\n",
    "from astropy.time import Time\n",
    "import astropy.table\n",
    "from astropy.table import Table, Column, MaskedColumn\n",
    "from astroplan import Observer\n",
    "from astroquery.jplhorizons import Horizons\n",
    "import pandas as pd\n",
    "import csv\n",
    "import astropy.time\n",
    "import dateutil.parser\n",
    "\n",
    "### Reading CSV file of dates targets were observed\n",
    "raw_target_info = pd.read_csv(\"look_table.csv\")\n",
    "\n",
    "### Creating new dataframe with first date each target was observed\n",
    "subset_df = raw_target_info[[\"Target\",\"Date\"]]\n",
    "grouped_and_first_df = subset_df.groupby([\"Target\"]).first()\n",
    "new_df = grouped_and_first_df.reset_index()\n",
    "new_df.columns = [\"Name\",\"N\"]\n",
    "\n",
    "### \n",
    "target_location = '474' # Mt. John Observatory MPC code\n",
    "\n",
    "obsDate_lst = []\n",
    "for i in new_df.N:\n",
    "    obsDate_lst.append(i)\n",
    "\n",
    "targetname_lst = []\n",
    "for i in new_df.Name:\n",
    "    targetname_lst.append(i)\n",
    "\n",
    "# need to convert epoch date to julian date\n",
    "jd_obsDate_lst = []\n",
    "for i in obsDate_lst:\n",
    "    dt = dateutil.parser.parse(obsDate_lst[0]) \n",
    "    time = astropy.time.Time(dt)\n",
    "    jd_obsDate_lst.append(time.jd)\n",
    "\n",
    "\n",
    "# statue_of_liberty = {'lon': -74.0466891,\n",
    "#                      'lat': 40.6892534,\n",
    "#                      'elevation': 0.093}\n",
    "\n",
    "# obj = Horizons(id='Eris',epochs=jd_obsDate_lst[0])\n",
    "# print(obj.elements())\n",
    "# print(obj.location)\n",
    "\n",
    "\n",
    "\n",
    "# #need to query information from JPL Horizons database\n",
    "eph_lst = []\n",
    "el_lst = []\n",
    "obj_lst = []\n",
    "for index,jdDate in enumerate(jd_obsDate_lst):\n",
    "    if targetname_lst[index] == \"C/2018 F4\":\n",
    "        obj = Horizons(id='90004395', location=target_location,epochs=jdDate)\n",
    "    else:\n",
    "        obj = Horizons(id=targetname_lst[index], epochs=jdDate)\n",
    "        obj_lst.append(obj)\n",
    "        eph_lst.append(obj.ephemerides()) #from eph, only need 'r' heliocentric distance\n",
    "        el_lst.append(obj.elements()) #from elems, need a0 (semimajor axis), q, and T (perihelion date)"
   ]
  },
  {
   "cell_type": "code",
   "execution_count": 9,
   "metadata": {},
   "outputs": [
    {
     "name": "stdout",
     "output_type": "stream",
     "text": [
      "    targetname    datetime_jd          datetime_str            H    G           e                 q                 incl             Omega              w               Tp_jd               n                 M                  nu                  a                      Q                     P          \n",
      "       ---             d                   ---                mag  ---         ---                AU                deg               deg              deg                d              deg / d             deg                deg                  AU                     AU                    d          \n",
      "----------------- ----------- ------------------------------ ----- ---- ----------------- ------------------ ----------------- ----------------- ---------------- ----------------- ----------------- ------------------ ----------------- ---------------------- --------------------- ---------------------\n",
      "189040 (2000 MU1)   2459235.5 A.D. 2021-Jan-21 00:00:00.0000 19.88 0.15 7205.508971615393 0.0914818648555881 30.33276778745891 206.5642297497859 6.03672333917689 2459240.592245275 37750.36954423838 -192234.1409356565 335.0254860055879 -1.269786257689621e-05 9.999999999999998e+99 9.999999999999998e+99\n"
     ]
    }
   ],
   "source": [
    "print(el_lst[0][0])"
   ]
  },
  {
   "cell_type": "code",
   "execution_count": 22,
   "metadata": {},
   "outputs": [],
   "source": [
    "final_array = []\n",
    "for index,target in enumerate(eph_lst):\n",
    "    final_array.append([el_lst[index]['a'][0],eph_lst[index]['r'][0],\n",
    "                        el_lst[index]['q'][0],el_lst[index]['Tp_jd'][0]])"
   ]
  },
  {
   "cell_type": "code",
   "execution_count": 27,
   "metadata": {},
   "outputs": [
    {
     "data": {
      "text/html": [
       "<div>\n",
       "<style scoped>\n",
       "    .dataframe tbody tr th:only-of-type {\n",
       "        vertical-align: middle;\n",
       "    }\n",
       "\n",
       "    .dataframe tbody tr th {\n",
       "        vertical-align: top;\n",
       "    }\n",
       "\n",
       "    .dataframe thead th {\n",
       "        text-align: right;\n",
       "    }\n",
       "</style>\n",
       "<table border=\"1\" class=\"dataframe\">\n",
       "  <thead>\n",
       "    <tr style=\"text-align: right;\">\n",
       "      <th></th>\n",
       "      <th>a</th>\n",
       "      <th>r</th>\n",
       "      <th>q</th>\n",
       "      <th>T</th>\n",
       "    </tr>\n",
       "  </thead>\n",
       "  <tbody>\n",
       "    <tr>\n",
       "      <th>0</th>\n",
       "      <td>-0.000013</td>\n",
       "      <td>1.023791</td>\n",
       "      <td>0.091482</td>\n",
       "      <td>2.459241e+06</td>\n",
       "    </tr>\n",
       "    <tr>\n",
       "      <th>1</th>\n",
       "      <td>-0.000016</td>\n",
       "      <td>1.104592</td>\n",
       "      <td>0.102607</td>\n",
       "      <td>2.459245e+06</td>\n",
       "    </tr>\n",
       "    <tr>\n",
       "      <th>2</th>\n",
       "      <td>-0.000490</td>\n",
       "      <td>0.983340</td>\n",
       "      <td>0.102455</td>\n",
       "      <td>2.459180e+06</td>\n",
       "    </tr>\n",
       "    <tr>\n",
       "      <th>3</th>\n",
       "      <td>-0.000141</td>\n",
       "      <td>1.022337</td>\n",
       "      <td>0.011291</td>\n",
       "      <td>2.459254e+06</td>\n",
       "    </tr>\n",
       "  </tbody>\n",
       "</table>\n",
       "</div>"
      ],
      "text/plain": [
       "          a         r         q             T\n",
       "0 -0.000013  1.023791  0.091482  2.459241e+06\n",
       "1 -0.000016  1.104592  0.102607  2.459245e+06\n",
       "2 -0.000490  0.983340  0.102455  2.459180e+06\n",
       "3 -0.000141  1.022337  0.011291  2.459254e+06"
      ]
     },
     "execution_count": 27,
     "metadata": {},
     "output_type": "execute_result"
    }
   ],
   "source": [
    "eph_el_df = pd.DataFrame(final_array,columns=['a','r','q','T'])\n",
    "eph_el_df.head(4)"
   ]
  },
  {
   "cell_type": "code",
   "execution_count": 31,
   "metadata": {},
   "outputs": [
    {
     "data": {
      "text/html": [
       "<div>\n",
       "<style scoped>\n",
       "    .dataframe tbody tr th:only-of-type {\n",
       "        vertical-align: middle;\n",
       "    }\n",
       "\n",
       "    .dataframe tbody tr th {\n",
       "        vertical-align: top;\n",
       "    }\n",
       "\n",
       "    .dataframe thead th {\n",
       "        text-align: right;\n",
       "    }\n",
       "</style>\n",
       "<table border=\"1\" class=\"dataframe\">\n",
       "  <thead>\n",
       "    <tr style=\"text-align: right;\">\n",
       "      <th></th>\n",
       "      <th>Name</th>\n",
       "      <th>N</th>\n",
       "      <th>a</th>\n",
       "      <th>r</th>\n",
       "      <th>q</th>\n",
       "      <th>T</th>\n",
       "    </tr>\n",
       "  </thead>\n",
       "  <tbody>\n",
       "    <tr>\n",
       "      <th>0</th>\n",
       "      <td>189040</td>\n",
       "      <td>21/01/2021</td>\n",
       "      <td>-0.000013</td>\n",
       "      <td>1.023791</td>\n",
       "      <td>0.091482</td>\n",
       "      <td>2.459241e+06</td>\n",
       "    </tr>\n",
       "    <tr>\n",
       "      <th>1</th>\n",
       "      <td>2009 CD</td>\n",
       "      <td>11/02/2021</td>\n",
       "      <td>-0.000016</td>\n",
       "      <td>1.104592</td>\n",
       "      <td>0.102607</td>\n",
       "      <td>2.459245e+06</td>\n",
       "    </tr>\n",
       "    <tr>\n",
       "      <th>2</th>\n",
       "      <td>2020 UB5</td>\n",
       "      <td>11/02/2021</td>\n",
       "      <td>-0.000490</td>\n",
       "      <td>0.983340</td>\n",
       "      <td>0.102455</td>\n",
       "      <td>2.459180e+06</td>\n",
       "    </tr>\n",
       "    <tr>\n",
       "      <th>3</th>\n",
       "      <td>2021 CA1</td>\n",
       "      <td>11/02/2021</td>\n",
       "      <td>-0.000141</td>\n",
       "      <td>1.022337</td>\n",
       "      <td>0.011291</td>\n",
       "      <td>2.459254e+06</td>\n",
       "    </tr>\n",
       "    <tr>\n",
       "      <th>4</th>\n",
       "      <td>2021 CD1</td>\n",
       "      <td>12/02/2021</td>\n",
       "      <td>-0.000010</td>\n",
       "      <td>1.139992</td>\n",
       "      <td>0.051302</td>\n",
       "      <td>2.459260e+06</td>\n",
       "    </tr>\n",
       "  </tbody>\n",
       "</table>\n",
       "</div>"
      ],
      "text/plain": [
       "       Name           N         a         r         q             T\n",
       "0    189040  21/01/2021 -0.000013  1.023791  0.091482  2.459241e+06\n",
       "1   2009 CD  11/02/2021 -0.000016  1.104592  0.102607  2.459245e+06\n",
       "2  2020 UB5  11/02/2021 -0.000490  0.983340  0.102455  2.459180e+06\n",
       "3  2021 CA1  11/02/2021 -0.000141  1.022337  0.011291  2.459254e+06\n",
       "4  2021 CD1  12/02/2021 -0.000010  1.139992  0.051302  2.459260e+06"
      ]
     },
     "execution_count": 31,
     "metadata": {},
     "output_type": "execute_result"
    }
   ],
   "source": [
    "final_new_df = pd.concat([new_df,eph_el_df],axis=1)\n",
    "final_new_df.head(5)"
   ]
  },
  {
   "cell_type": "code",
   "execution_count": 33,
   "metadata": {},
   "outputs": [
    {
     "data": {
      "text/html": [
       "<div>\n",
       "<style scoped>\n",
       "    .dataframe tbody tr th:only-of-type {\n",
       "        vertical-align: middle;\n",
       "    }\n",
       "\n",
       "    .dataframe tbody tr th {\n",
       "        vertical-align: top;\n",
       "    }\n",
       "\n",
       "    .dataframe thead th {\n",
       "        text-align: right;\n",
       "    }\n",
       "</style>\n",
       "<table border=\"1\" class=\"dataframe\">\n",
       "  <thead>\n",
       "    <tr style=\"text-align: right;\">\n",
       "      <th></th>\n",
       "      <th>Name</th>\n",
       "      <th>a</th>\n",
       "      <th>N</th>\n",
       "      <th>r</th>\n",
       "      <th>q</th>\n",
       "      <th>T</th>\n",
       "    </tr>\n",
       "  </thead>\n",
       "  <tbody>\n",
       "    <tr>\n",
       "      <th>0</th>\n",
       "      <td>189040</td>\n",
       "      <td>-0.000013</td>\n",
       "      <td>21/01/2021</td>\n",
       "      <td>1.023791</td>\n",
       "      <td>0.091482</td>\n",
       "      <td>2.459241e+06</td>\n",
       "    </tr>\n",
       "    <tr>\n",
       "      <th>1</th>\n",
       "      <td>2009 CD</td>\n",
       "      <td>-0.000016</td>\n",
       "      <td>11/02/2021</td>\n",
       "      <td>1.104592</td>\n",
       "      <td>0.102607</td>\n",
       "      <td>2.459245e+06</td>\n",
       "    </tr>\n",
       "    <tr>\n",
       "      <th>2</th>\n",
       "      <td>2020 UB5</td>\n",
       "      <td>-0.000490</td>\n",
       "      <td>11/02/2021</td>\n",
       "      <td>0.983340</td>\n",
       "      <td>0.102455</td>\n",
       "      <td>2.459180e+06</td>\n",
       "    </tr>\n",
       "    <tr>\n",
       "      <th>3</th>\n",
       "      <td>2021 CA1</td>\n",
       "      <td>-0.000141</td>\n",
       "      <td>11/02/2021</td>\n",
       "      <td>1.022337</td>\n",
       "      <td>0.011291</td>\n",
       "      <td>2.459254e+06</td>\n",
       "    </tr>\n",
       "    <tr>\n",
       "      <th>4</th>\n",
       "      <td>2021 CD1</td>\n",
       "      <td>-0.000010</td>\n",
       "      <td>12/02/2021</td>\n",
       "      <td>1.139992</td>\n",
       "      <td>0.051302</td>\n",
       "      <td>2.459260e+06</td>\n",
       "    </tr>\n",
       "  </tbody>\n",
       "</table>\n",
       "</div>"
      ],
      "text/plain": [
       "       Name         a           N         r         q             T\n",
       "0    189040 -0.000013  21/01/2021  1.023791  0.091482  2.459241e+06\n",
       "1   2009 CD -0.000016  11/02/2021  1.104592  0.102607  2.459245e+06\n",
       "2  2020 UB5 -0.000490  11/02/2021  0.983340  0.102455  2.459180e+06\n",
       "3  2021 CA1 -0.000141  11/02/2021  1.022337  0.011291  2.459254e+06\n",
       "4  2021 CD1 -0.000010  12/02/2021  1.139992  0.051302  2.459260e+06"
      ]
     },
     "execution_count": 33,
     "metadata": {},
     "output_type": "execute_result"
    }
   ],
   "source": [
    "final_new_df = final_new_df[['Name','a','N','r','q','T']]\n",
    "final_new_df.head(5)"
   ]
  },
  {
   "cell_type": "code",
   "execution_count": null,
   "metadata": {},
   "outputs": [],
   "source": []
  },
  {
   "cell_type": "code",
   "execution_count": 10,
   "metadata": {},
   "outputs": [],
   "source": [
    "#now we need to make the JPL data and the FITS data into tables\n",
    "final_r_lst = []\n",
    "for target in eph_lst:\n",
    "    final_r_lst.append(target['r'][0])"
   ]
  },
  {
   "cell_type": "code",
   "execution_count": 11,
   "metadata": {},
   "outputs": [
    {
     "name": "stdout",
     "output_type": "stream",
     "text": [
      "[1.023791360949, 1.104592496759, 0.983340023274, 1.022337473413, 1.139991851076, 1.083627970415, 1.019256288507, 0.992017928236, 1.031319318383, 1.04734870929, 6.237595579648, 1.413173122935, 7.95430957502, 2.85525765412, 2.229828039621, 6.230638919391, 5.226928081046]\n"
     ]
    }
   ],
   "source": [
    "print(final_r_lst)"
   ]
  },
  {
   "cell_type": "code",
   "execution_count": 12,
   "metadata": {},
   "outputs": [],
   "source": [
    "final_a0_lst = []\n",
    "final_q_lst = []\n",
    "final_T_lst = []\n",
    "for target in el_lst:\n",
    "    final_a0_lst.append(target['a'][0]) \n",
    "    final_q_lst.append(target['q'][0])\n",
    "    final_T_lst.append(target['Tp_jd'][0])"
   ]
  },
  {
   "cell_type": "code",
   "execution_count": 13,
   "metadata": {},
   "outputs": [
    {
     "name": "stdout",
     "output_type": "stream",
     "text": [
      "[-1.269786257689621e-05, -1.582153576294483e-05, -0.0004903242242290665, -0.000141160640325975, -9.795714123171923e-06, -3.508603018446807e-05, -5.807100685275533e-05, -3.281811186662119e-05, -1.533055015280568e-05, -3.193896527215872e-05, -4.885987169310872e-06, -9.933732605506793e-07, -3.115936583840077e-06, -3.258038291054867e-06, -8.568433316583811e-07, -6.356857989676344e-06, -7.393996329128375e-06]\n",
      "[0.0914818648555881, 0.1026071117739761, 0.102455354005726, 0.01129115889836261, 0.05130165864243345, 0.01556908603898099, 0.02934861540793406, 0.02352240347185621, 0.0780814201946056, 0.2210113043571349, 6.220852488759641, 0.4960130519828689, 4.928463953963444, 1.96579552427586, 1.878752050572924, 2.926078370623832, 1.507295891016705]\n",
      "[2459240.592245275, 2459245.404798997, 2459179.537558207, 2459254.176984094, 2459260.28539629, 2459255.875013671, 2459251.841910695, 2459249.232853253, 2459247.052381009, 2459231.093043865, 2459155.87785025, 2459249.722663001, 2459550.129580839, 2459343.474739891, 2459258.398670488, 2458838.664330456, 2458846.29743382]\n"
     ]
    }
   ],
   "source": [
    "print(final_a0_lst)\n",
    "print(final_q_lst)\n",
    "print(final_T_lst)"
   ]
  },
  {
   "cell_type": "code",
   "execution_count": 21,
   "metadata": {},
   "outputs": [
    {
     "name": "stdout",
     "output_type": "stream",
     "text": [
      "             0             1             2             3             4   \\\n",
      "0 -1.269786e-05 -1.582154e-05 -4.903242e-04 -1.411606e-04 -9.795714e-06   \n",
      "1  1.023791e+00  1.104592e+00  9.833400e-01  1.022337e+00  1.139992e+00   \n",
      "2  9.148186e-02  1.026071e-01  1.024554e-01  1.129116e-02  5.130166e-02   \n",
      "3  2.459241e+06  2.459245e+06  2.459180e+06  2.459254e+06  2.459260e+06   \n",
      "\n",
      "             5             6             7             8             9   \\\n",
      "0 -3.508603e-05 -5.807101e-05 -3.281811e-05 -1.533055e-05 -3.193897e-05   \n",
      "1  1.083628e+00  1.019256e+00  9.920179e-01  1.031319e+00  1.047349e+00   \n",
      "2  1.556909e-02  2.934862e-02  2.352240e-02  7.808142e-02  2.210113e-01   \n",
      "3  2.459256e+06  2.459252e+06  2.459249e+06  2.459247e+06  2.459231e+06   \n",
      "\n",
      "             10            11            12            13            14  \\\n",
      "0 -4.885987e-06 -9.933733e-07 -3.115937e-06 -3.258038e-06 -8.568433e-07   \n",
      "1  6.237596e+00  1.413173e+00  7.954310e+00  2.855258e+00  2.229828e+00   \n",
      "2  6.220852e+00  4.960131e-01  4.928464e+00  1.965796e+00  1.878752e+00   \n",
      "3  2.459156e+06  2.459250e+06  2.459550e+06  2.459343e+06  2.459258e+06   \n",
      "\n",
      "             15            16  \n",
      "0 -6.356858e-06 -7.393996e-06  \n",
      "1  6.230639e+00  5.226928e+00  \n",
      "2  2.926078e+00  1.507296e+00  \n",
      "3  2.458839e+06  2.458846e+06  \n"
     ]
    }
   ],
   "source": [
    "df2 = pd.DataFrame([final_a0_lst, final_r_lst, final_q_lst, final_T_lst])\n",
    "print(df2)"
   ]
  },
  {
   "cell_type": "code",
   "execution_count": 15,
   "metadata": {},
   "outputs": [
    {
     "ename": "NameError",
     "evalue": "name 'final_el_lst' is not defined",
     "output_type": "error",
     "traceback": [
      "\u001b[1;31m---------------------------------------------------------------------------\u001b[0m",
      "\u001b[1;31mNameError\u001b[0m                                 Traceback (most recent call last)",
      "\u001b[1;32m<ipython-input-15-831c3bcb5340>\u001b[0m in \u001b[0;36m<module>\u001b[1;34m\u001b[0m\n\u001b[1;32m----> 1\u001b[1;33m \u001b[0myolo\u001b[0m \u001b[1;33m=\u001b[0m \u001b[0mfinal_el_lst\u001b[0m \u001b[1;33m+\u001b[0m \u001b[0mfinal_eph_lst\u001b[0m\u001b[1;33m\u001b[0m\u001b[1;33m\u001b[0m\u001b[0m\n\u001b[0m\u001b[0;32m      2\u001b[0m \u001b[0mprint\u001b[0m\u001b[1;33m(\u001b[0m\u001b[0mfinal_el_lst\u001b[0m\u001b[1;33m[\u001b[0m\u001b[1;36m0\u001b[0m\u001b[1;33m]\u001b[0m\u001b[1;33m)\u001b[0m\u001b[1;33m\u001b[0m\u001b[1;33m\u001b[0m\u001b[0m\n\u001b[0;32m      3\u001b[0m \u001b[0mprint\u001b[0m\u001b[1;33m(\u001b[0m\u001b[0mfinal_eph_lst\u001b[0m\u001b[1;33m[\u001b[0m\u001b[1;36m0\u001b[0m\u001b[1;33m]\u001b[0m\u001b[1;33m)\u001b[0m\u001b[1;33m\u001b[0m\u001b[1;33m\u001b[0m\u001b[0m\n\u001b[0;32m      4\u001b[0m \u001b[0mprint\u001b[0m\u001b[1;33m(\u001b[0m\u001b[0myolo\u001b[0m\u001b[1;33m)\u001b[0m\u001b[1;33m\u001b[0m\u001b[1;33m\u001b[0m\u001b[0m\n",
      "\u001b[1;31mNameError\u001b[0m: name 'final_el_lst' is not defined"
     ]
    }
   ],
   "source": [
    "yolo = final_el_lst + final_eph_lst\n",
    "print(final_el_lst[0])\n",
    "print(final_eph_lst[0])\n",
    "print(yolo)"
   ]
  },
  {
   "cell_type": "code",
   "execution_count": null,
   "metadata": {},
   "outputs": [],
   "source": [
    "df1 = pd.DataFrame({'a':final_el_lst,\n",
    "                    'b':final_eph_lst})\n",
    "print(df1.head(1))"
   ]
  },
  {
   "cell_type": "code",
   "execution_count": 17,
   "metadata": {},
   "outputs": [],
   "source": [
    "my_arr = np.array([[1,2,3],\n",
    "                   [4,5,6],\n",
    "                   [7,8,9]])\n",
    "\n",
    "my_df = pd.DataFrame(my_arr,columns=['col1','col2','col3'])"
   ]
  },
  {
   "cell_type": "code",
   "execution_count": 18,
   "metadata": {},
   "outputs": [
    {
     "name": "stdout",
     "output_type": "stream",
     "text": [
      "   col1  col2  col3\n",
      "0     1     2     3\n",
      "1     4     5     6\n",
      "2     7     8     9\n"
     ]
    }
   ],
   "source": [
    "print(my_df)"
   ]
  }
 ],
 "metadata": {
  "interpreter": {
   "hash": "b8dfcc4a6243885f100527393eda4351d2397a0a9d4c07ea3031d7aee9b8c635"
  },
  "kernelspec": {
   "display_name": "Python 3.9.5 64-bit",
   "language": "python",
   "name": "python3"
  },
  "language_info": {
   "codemirror_mode": {
    "name": "ipython",
    "version": 3
   },
   "file_extension": ".py",
   "mimetype": "text/x-python",
   "name": "python",
   "nbconvert_exporter": "python",
   "pygments_lexer": "ipython3",
   "version": "3.9.5"
  },
  "orig_nbformat": 4
 },
 "nbformat": 4,
 "nbformat_minor": 2
}
